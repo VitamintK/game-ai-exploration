{
 "cells": [
  {
   "cell_type": "markdown",
   "metadata": {},
   "source": [
    "### let's try hand-coding the CFR algorithm for Kuhn Poker in openspiel"
   ]
  },
  {
   "cell_type": "code",
   "execution_count": 42,
   "metadata": {},
   "outputs": [],
   "source": [
    "import pyspiel\n",
    "import numpy as np\n",
    "from collections import defaultdict"
   ]
  },
  {
   "cell_type": "code",
   "execution_count": 2,
   "metadata": {},
   "outputs": [],
   "source": [
    "game = pyspiel.load_game(\"kuhn_poker\")"
   ]
  },
  {
   "cell_type": "code",
   "execution_count": 124,
   "metadata": {},
   "outputs": [],
   "source": [
    "from typing import Dict\n",
    "\n",
    "cumulative_regrets = [defaultdict(lambda: defaultdict(float)), defaultdict(lambda: defaultdict(float))]\n",
    "# cumulative_regrets[P][I][A] is the cumulative regret, for player P (0 or 1) at infostate I, of not taking action A\n",
    "strategy_sums = [defaultdict(lambda: defaultdict(float)), defaultdict(lambda: defaultdict(float))]\n",
    "\n",
    "InfoSet = str\n",
    "\n",
    "def get_strategy_from_regrets(regrets: Dict[InfoSet, float]):\n",
    "    positive_regrets = {action: max(value, 0) for action, value in regrets.items()}\n",
    "    denom = sum(positive_regrets.values())\n",
    "    if denom <= 0:\n",
    "        return {action: 1/len(regrets) for action in regrets}\n",
    "    return {action: value/denom for action, value in positive_regrets.items()}\n",
    "\n",
    "\"\"\"\n",
    "returns the expected value of the state for player 1 (not counterfactual, so the caller should do the scaling)\n",
    "p1prob is the probability that we reach this state if *p2* plays to reach the state.\n",
    "\"\"\"\n",
    "def cfr(state, player, p1prob, p2prob):\n",
    "    if state.is_terminal():\n",
    "        return state.returns()[0] # take the 0th item here bc that's the payoff for player 1\n",
    "    if state.is_chance_node():\n",
    "        expected_value = 0\n",
    "        for action, p in state.chance_outcomes():\n",
    "            ev = cfr(state.child(action), player, p1prob*p, p2prob*p)\n",
    "            expected_value += p*ev\n",
    "        return expected_value\n",
    "    else:\n",
    "        infostate_str = state.information_state_string()\n",
    "        legal_actions = state.legal_actions()\n",
    "        # hacky way to lazily initialize cumulative regrets:\n",
    "        for action in legal_actions:\n",
    "            cumulative_regrets[state.current_player()][infostate_str][action] += 0\n",
    "        \n",
    "        strategy = get_strategy_from_regrets(cumulative_regrets[state.current_player()][infostate_str])\n",
    "        # the following two variables store ev for the state.current_player().\n",
    "        expected_value = 0\n",
    "        expected_values_per_action = dict()\n",
    "        for action in legal_actions:\n",
    "            p = strategy[action]\n",
    "            if state.current_player() == 0:\n",
    "                ev = cfr(state.child(action), player, p1prob*p, p2prob)\n",
    "            else:\n",
    "                ev = cfr(state.child(action), player, p1prob, p2prob*p) * -1\n",
    "            expected_values_per_action[action] = ev\n",
    "            expected_value += ev * p\n",
    "        if state.current_player() == player:\n",
    "            if player == 0:\n",
    "                pi_not_i, pi_i = p2prob, p1prob\n",
    "            else:\n",
    "                pi_not_i, pi_i = p1prob, p2prob\n",
    "            for a, v in expected_values_per_action.items():\n",
    "                counterfactual_regret = (v - expected_value)*pi_not_i\n",
    "                strategy_sums[player][state.information_state_string()][a] += p1prob*p2prob * strategy[a]\n",
    "                cumulative_regrets[player][state.information_state_string()][a] += counterfactual_regret\n",
    "        # since expected_value stores the ev for the state.current_player(), we invert it before returning\n",
    "        if state.current_player() == 0:\n",
    "            return expected_value\n",
    "        else:\n",
    "            return expected_value * -1\n",
    "        \n",
    "    "
   ]
  },
  {
   "cell_type": "code",
   "execution_count": 125,
   "metadata": {
    "scrolled": true
   },
   "outputs": [
    {
     "name": "stdout",
     "output_type": "stream",
     "text": [
      "0 0.3125\n",
      "0 0.25\n",
      "500 -0.062502406696407\n",
      "500 -0.0514975003093206\n",
      "1000 -0.06118483326617913\n",
      "1000 -0.05399961160211475\n",
      "1500 -0.05941286367004783\n",
      "1500 -0.053638321238782205\n",
      "2000 -0.058844011113143246\n",
      "2000 -0.05399614485905907\n",
      "2500 -0.058567310653070304\n",
      "2500 -0.05419790241062444\n",
      "3000 -0.05850255541149996\n",
      "3000 -0.05449023838493211\n",
      "3500 -0.05818587349793236\n",
      "3500 -0.05440124857762285\n"
     ]
    }
   ],
   "source": [
    "ITS = 4000\n",
    "cumulative_regrets = [defaultdict(lambda: defaultdict(float)), defaultdict(lambda: defaultdict(float))]\n",
    "strategy_sums = [defaultdict(lambda: defaultdict(float)), defaultdict(lambda: defaultdict(float))]\n",
    "\n",
    "for it in range(ITS):\n",
    "    for player in [0,1]:\n",
    "        state = game.new_initial_state()\n",
    "        payoff = cfr(state, player, 1, 1)\n",
    "        if it%500 == 0:\n",
    "            print(it, payoff)"
   ]
  },
  {
   "cell_type": "code",
   "execution_count": 94,
   "metadata": {},
   "outputs": [],
   "source": [
    "def get_strategy_from_strategy_sums(strategy_sums):\n",
    "    denom = sum(strategy_sums.values())\n",
    "    if denom <= 0:\n",
    "        return {action: 1/len(strategy_sums) for action in strategy_sums}\n",
    "    return {action: p/denom for action, p in strategy_sums.items()}\n",
    "    \n",
    "\n",
    "def get_payoff_with_final_strat(state):\n",
    "    if state.is_terminal():\n",
    "        return state.returns()[0]\n",
    "    elif state.is_chance_node():\n",
    "        ev = 0\n",
    "        for action, p in state.chance_outcomes():\n",
    "            ev += p*get_payoff_with_final_strat(state.child(action))\n",
    "        return ev\n",
    "    else:\n",
    "        infostate_str = state.information_state_string()\n",
    "        legal_actions = state.legal_actions()\n",
    "        print(' '*state.move_number(), state.history_str())\n",
    "        strategy = get_strategy_from_strategy_sums(strategy_sums[state.current_player()][infostate_str])\n",
    "        ev = 0\n",
    "        for action in legal_actions:\n",
    "            print(' '*state.move_number(),infostate_str,'->',state.action_to_string(action), strategy[action])\n",
    "            ev += strategy[action] * get_payoff_with_final_strat(state.child(action))\n",
    "        return ev"
   ]
  },
  {
   "cell_type": "code",
   "execution_count": 101,
   "metadata": {},
   "outputs": [
    {
     "name": "stdout",
     "output_type": "stream",
     "text": [
      "   0 1\n",
      "   0 -> Pass 0.764724189393865\n",
      "    0 1 0\n",
      "    1p -> Pass 0.9996989973206932\n",
      "    1p -> Bet 0.00030100267930670705\n",
      "     0 1 0 1\n",
      "     0pb -> Pass 0.9999725586952606\n",
      "     0pb -> Bet 2.7441304739366313e-05\n",
      "   0 -> Bet 0.23527581060613498\n",
      "    0 1 1\n",
      "    1b -> Pass 0.6561151815826567\n",
      "    1b -> Bet 0.3438848184173433\n",
      "   0 2\n",
      "   0 -> Pass 0.764724189393865\n",
      "    0 2 0\n",
      "    2p -> Pass 0.0001196960864903472\n",
      "    2p -> Bet 0.9998803039135097\n",
      "     0 2 0 1\n",
      "     0pb -> Pass 0.9999725586952606\n",
      "     0pb -> Bet 2.7441304739366313e-05\n",
      "   0 -> Bet 0.23527581060613498\n",
      "    0 2 1\n",
      "    2b -> Pass 0.0003615765470801664\n",
      "    2b -> Bet 0.9996384234529199\n",
      "   1 0\n",
      "   1 -> Pass 0.9988066610907277\n",
      "    1 0 0\n",
      "    0p -> Pass 0.66381571464462\n",
      "    0p -> Bet 0.33618428535538003\n",
      "     1 0 0 1\n",
      "     1pb -> Pass 0.4286631829955627\n",
      "     1pb -> Bet 0.5713368170044373\n",
      "   1 -> Bet 0.0011933389092724158\n",
      "    1 0 1\n",
      "    0b -> Pass 0.9998798988746334\n",
      "    0b -> Bet 0.00012010112536670338\n",
      "   1 2\n",
      "   1 -> Pass 0.9988066610907277\n",
      "    1 2 0\n",
      "    2p -> Pass 0.0001196960864903472\n",
      "    2p -> Bet 0.9998803039135097\n",
      "     1 2 0 1\n",
      "     1pb -> Pass 0.4286631829955627\n",
      "     1pb -> Bet 0.5713368170044373\n",
      "   1 -> Bet 0.0011933389092724158\n",
      "    1 2 1\n",
      "    2b -> Pass 0.0003615765470801664\n",
      "    2b -> Bet 0.9996384234529199\n",
      "   2 0\n",
      "   2 -> Pass 0.31197516728459146\n",
      "    2 0 0\n",
      "    0p -> Pass 0.66381571464462\n",
      "    0p -> Bet 0.33618428535538003\n",
      "     2 0 0 1\n",
      "     2pb -> Pass 0.00020308603722315435\n",
      "     2pb -> Bet 0.9997969139627769\n",
      "   2 -> Bet 0.6880248327154086\n",
      "    2 0 1\n",
      "    0b -> Pass 0.9998798988746334\n",
      "    0b -> Bet 0.00012010112536670338\n",
      "   2 1\n",
      "   2 -> Pass 0.31197516728459146\n",
      "    2 1 0\n",
      "    1p -> Pass 0.9996989973206932\n",
      "    1p -> Bet 0.00030100267930670705\n",
      "     2 1 0 1\n",
      "     2pb -> Pass 0.00020308603722315435\n",
      "     2pb -> Bet 0.9997969139627769\n",
      "   2 -> Bet 0.6880248327154086\n",
      "    2 1 1\n",
      "    1b -> Pass 0.6561151815826567\n",
      "    1b -> Bet 0.3438848184173433\n",
      "-0.05557122572128392\n"
     ]
    }
   ],
   "source": [
    "state = game.new_initial_state()\n",
    "ev = get_payoff_with_final_strat(state)\n",
    "print(ev)"
   ]
  },
  {
   "cell_type": "markdown",
   "metadata": {},
   "source": [
    "The resulting EV looks correct (https://en.wikipedia.org/wiki/Kuhn_poker): \"the first player should expect to lose at a rate of −1/18 per hand\""
   ]
  },
  {
   "cell_type": "code",
   "execution_count": 96,
   "metadata": {},
   "outputs": [
    {
     "data": {
      "text/plain": [
       "0.05555555555555555"
      ]
     },
     "execution_count": 96,
     "metadata": {},
     "output_type": "execute_result"
    }
   ],
   "source": [
    "1/18"
   ]
  },
  {
   "cell_type": "markdown",
   "metadata": {},
   "source": [
    "Ok that looks correct.\n",
    "\n",
    "Player one should bet 3x more likely with a K (2) than with a J (0): https://upload.wikimedia.org/wikipedia/commons/a/a9/Kuhn_poker_tree.svg\n",
    "\n",
    "```\n",
    "0 -> Bet 0.23675878818473314\n",
    "...\n",
    "2 -> Bet 0.6698347958294653\n",
    "```"
   ]
  },
  {
   "cell_type": "code",
   "execution_count": 98,
   "metadata": {},
   "outputs": [
    {
     "data": {
      "text/plain": [
       "0.711"
      ]
     },
     "execution_count": 98,
     "metadata": {},
     "output_type": "execute_result"
    }
   ],
   "source": [
    "0.237 * 3"
   ]
  },
  {
   "cell_type": "markdown",
   "metadata": {},
   "source": [
    "Hm.... that doesn't look exactly correct.  [edit: Re-ran with 5x more iterations (6000 iterations) and got closer values (0.235 and 0.688), so I'm satisfied]"
   ]
  },
  {
   "cell_type": "markdown",
   "metadata": {},
   "source": [
    "More checking:  \n",
    "Player one should check 100% of the time with a Q (1), which it does: `1 -> Pass 0.9928399665443669`  \n",
    "Player two should fold 100% of the time with a J when bet to, which it does: `0b -> Pass 0.9992716750496424`  \n",
    "And player two should bet 33% of the time with a J when checked to, which it does: `0p -> Pass 0.6608318109822778`"
   ]
  },
  {
   "cell_type": "markdown",
   "metadata": {},
   "source": [
    "Alright now let's try using openspiel's CFR solver: [cfr_example.py](https://github.com/deepmind/open_spiel/blob/master/open_spiel/python/examples/cfr_example.py)\n"
   ]
  },
  {
   "cell_type": "code",
   "execution_count": 123,
   "metadata": {},
   "outputs": [
    {
     "name": "stdout",
     "output_type": "stream",
     "text": [
      "Iteration 0 exploitability 0.45833333333333326\n",
      "Iteration 500 exploitability 0.0012031926490508604\n",
      "Iteration 1000 exploitability 0.0009701106073763677\n",
      "Iteration 1500 exploitability 0.0004689275667045245\n",
      "Iteration 2000 exploitability 0.0005293432339987247\n",
      "Iteration 2500 exploitability 0.0004632766227801177\n",
      "Iteration 3000 exploitability 0.0004150519969013944\n",
      "Iteration 3500 exploitability 0.000248111630169745\n"
     ]
    }
   ],
   "source": [
    "from open_spiel.python.algorithms import cfr\n",
    "from open_spiel.python.algorithms import exploitability\n",
    "\n",
    "cfr_solver = cfr.CFRSolver(game)\n",
    "ITS = 4000\n",
    "for i in range(ITS):\n",
    "    cfr_solver.evaluate_and_update_policy()\n",
    "    if i % 500 == 0:\n",
    "        conv = exploitability.exploitability(game, cfr_solver.average_policy())\n",
    "        print(\"Iteration {} exploitability {}\".format(i, conv))"
   ]
  },
  {
   "cell_type": "markdown",
   "metadata": {},
   "source": [
    "## Comparing performance with openspiel's CFR implementation\n",
    "Aight, now let's try to compare the exploitability of the resulting policy from my hand-coded CFR."
   ]
  },
  {
   "cell_type": "code",
   "execution_count": 128,
   "metadata": {},
   "outputs": [],
   "source": [
    "from open_spiel.python.policy import TabularPolicy\n",
    "# make a TabularPolicy object and fill it with the strategy from strategy_sums\n",
    "# so we can pass it in to exploitability()\n",
    "def get_openspiel_tabular_policy(strategy_sums):\n",
    "    my_policy = TabularPolicy(game)\n",
    "    for player in [0,1]:\n",
    "        for info_state in strategy_sums[player]:\n",
    "            strategy = get_strategy_from_strategy_sums(strategy_sums[player][info_state])\n",
    "            for action, p in strategy.items():\n",
    "                my_policy.policy_for_key(info_state)[action] = p\n",
    "    return my_policy"
   ]
  },
  {
   "cell_type": "code",
   "execution_count": 129,
   "metadata": {},
   "outputs": [
    {
     "name": "stdout",
     "output_type": "stream",
     "text": [
      "my exploitability: 0.0035180604381704894\n"
     ]
    }
   ],
   "source": [
    "my_policy = get_openspiel_tabular_policy(strategy_sums)\n",
    "conv = exploitability.exploitability(game, my_policy)\n",
    "print(\"my exploitability: {}\".format(conv))"
   ]
  },
  {
   "cell_type": "markdown",
   "metadata": {},
   "source": [
    "hmmmmmm mine looks like it's as good after 6000 iterations as openspiel's is after 500 iterations. Let's look at the learning trajectory"
   ]
  },
  {
   "cell_type": "code",
   "execution_count": 132,
   "metadata": {},
   "outputs": [
    {
     "name": "stdout",
     "output_type": "stream",
     "text": [
      "0 0.4375\n",
      "0 0.27083333333333337\n",
      "500 0.00923797545498345\n",
      "500 0.009225375133536107\n",
      "1000 0.006859414338126396\n",
      "1000 0.006853907955201438\n",
      "1500 0.005748481871713701\n",
      "1500 0.005750853185816807\n",
      "2000 0.004997746844913026\n",
      "2000 0.0049969069600468985\n",
      "2500 0.00446675227661858\n",
      "2500 0.004467282753330332\n",
      "3000 0.004052222222096835\n",
      "3000 0.004050880850328481\n",
      "3500 0.0037376126388465047\n",
      "3500 0.003737465657473571\n",
      "4000 0.0035178118779868317\n",
      "4000 0.003518280835981019\n",
      "4500 0.0033227965633366163\n",
      "4500 0.0033231556879633473\n",
      "5000 0.003152277645402768\n",
      "5000 0.003152170973910906\n",
      "5500 0.003011400561846067\n",
      "5500 0.0030109213849761063\n"
     ]
    }
   ],
   "source": [
    "ITS = 6000\n",
    "cumulative_regrets = [defaultdict(lambda: defaultdict(float)), defaultdict(lambda: defaultdict(float))]\n",
    "strategy_sums = [defaultdict(lambda: defaultdict(float)), defaultdict(lambda: defaultdict(float))]\n",
    "\n",
    "for it in range(ITS):\n",
    "    for player in [0,1]:\n",
    "        state = game.new_initial_state()\n",
    "        payoff = cfr(state, player, 1, 1)\n",
    "        if it%500 == 0:\n",
    "            policy = get_openspiel_tabular_policy(strategy_sums)\n",
    "            conv = exploitability.exploitability(game, policy)\n",
    "            print(it, conv)"
   ]
  },
  {
   "cell_type": "code",
   "execution_count": null,
   "metadata": {},
   "outputs": [],
   "source": []
  }
 ],
 "metadata": {
  "kernelspec": {
   "display_name": "Python 3",
   "language": "python",
   "name": "python3"
  },
  "language_info": {
   "codemirror_mode": {
    "name": "ipython",
    "version": 3
   },
   "file_extension": ".py",
   "mimetype": "text/x-python",
   "name": "python",
   "nbconvert_exporter": "python",
   "pygments_lexer": "ipython3",
   "version": "3.8.5"
  }
 },
 "nbformat": 4,
 "nbformat_minor": 4
}
