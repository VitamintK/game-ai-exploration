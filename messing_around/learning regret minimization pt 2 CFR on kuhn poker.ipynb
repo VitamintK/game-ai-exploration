{
 "cells": [
  {
   "cell_type": "markdown",
   "metadata": {},
   "source": [
    "### let's try hand-coding the CFR algorithm for Kuhn Poker in openspiel"
   ]
  },
  {
   "cell_type": "code",
   "execution_count": 42,
   "metadata": {},
   "outputs": [],
   "source": [
    "import pyspiel\n",
    "import numpy as np\n",
    "from collections import defaultdict"
   ]
  },
  {
   "cell_type": "code",
   "execution_count": 2,
   "metadata": {},
   "outputs": [],
   "source": [
    "game = pyspiel.load_game(\"kuhn_poker\")"
   ]
  },
  {
   "cell_type": "code",
   "execution_count": 66,
   "metadata": {},
   "outputs": [],
   "source": [
    "from typing import Dict\n",
    "\n",
    "cumulative_regrets = [defaultdict(lambda: defaultdict(float)), defaultdict(lambda: defaultdict(float))]\n",
    "# cumulative_regrets[P][I][A] is the cumulative regret, for player P (0 or 1) at infostate I, of not taking action A\n",
    "strategy_sums = [defaultdict(lambda: defaultdict(float)), defaultdict(lambda: defaultdict(float))]\n",
    "\n",
    "InfoSet = str\n",
    "\n",
    "def get_strategy_from_regrets(regrets: Dict[InfoSet, float]):\n",
    "    positive_regrets = {action: max(value, 0) for action, value in regrets.items()}\n",
    "    denom = sum(positive_regrets.values())\n",
    "    if denom <= 0:\n",
    "        return {action: 1/len(regrets) for action in regrets}\n",
    "    return {action: value/denom for action, value in positive_regrets.items()}\n",
    "\n",
    "\"\"\"\n",
    "returns the expected value of the state for player 1 (not counterfactual, so the caller should do the scaling)\n",
    "p1prob is the probability that we reach this state if *p2* plays to reach the state.\n",
    "\"\"\"\n",
    "def cfr(state, player, p1prob, p2prob):\n",
    "    if state.is_terminal():\n",
    "        return state.returns()[0] # take the 0th item here bc that's the payoff for player 1\n",
    "    if state.is_chance_node():\n",
    "        expected_counterfactual_value = 0\n",
    "        for action, p in state.chance_outcomes():\n",
    "            ev = cfr(state.child(action), player, p1prob*p, p2prob*p)\n",
    "            expected_counterfactual_value += p*ev\n",
    "        return expected_counterfactual_value\n",
    "    else:\n",
    "        infostate_str = state.information_state_string()\n",
    "        legal_actions = state.legal_actions()\n",
    "        # hacky way to lazily initialize cumulative regrets:\n",
    "        for action in legal_actions:\n",
    "            cumulative_regrets[state.current_player()][infostate_str][action] += 0\n",
    "        \n",
    "        strategy = get_strategy_from_regrets(cumulative_regrets[state.current_player()][infostate_str])\n",
    "        expected_value = 0\n",
    "        expected_values_per_action = dict()\n",
    "        for action in legal_actions:\n",
    "            p = strategy[action]\n",
    "            if state.current_player() == 0:\n",
    "                ev = cfr(state.child(action), player, p1prob*p, p2prob)\n",
    "            else:\n",
    "                ev = cfr(state.child(action), player, p1prob, p2prob*p) * -1\n",
    "            expected_values_per_action[action] = ev\n",
    "            expected_value += ev * p\n",
    "        if state.current_player() == player:\n",
    "            if player == 0:\n",
    "                pi_not_i, pi_i = p2prob, p1prob\n",
    "            else:\n",
    "                pi_not_i, pi_i = p1prob, p2prob\n",
    "            for a, v in expected_values_per_action.items():\n",
    "                counterfactual_regret = (v - expected_value)*pi_not_i\n",
    "                strategy_sums[player][state.information_state_string()][a] += p1prob*p2prob * strategy[a]\n",
    "                cumulative_regrets[player][state.information_state_string()][a] += counterfactual_regret\n",
    "        return expected_value\n",
    "        \n",
    "    "
   ]
  },
  {
   "cell_type": "code",
   "execution_count": 72,
   "metadata": {},
   "outputs": [
    {
     "name": "stdout",
     "output_type": "stream",
     "text": [
      "0 -0.0625\n",
      "0 -0.08333333333333331\n",
      "100 0.06570625508842126\n",
      "100 0.050164172630570214\n",
      "200 0.06038449857033401\n",
      "200 0.05232159037825218\n",
      "300 0.0583811978626127\n",
      "300 0.05050544374877064\n",
      "400 0.05819292712698665\n",
      "400 0.051357230364936834\n",
      "500 0.05809045169960397\n",
      "500 0.052320222144215944\n",
      "600 0.0582496938720698\n",
      "600 0.053367825272385205\n",
      "700 0.05790655873589118\n",
      "700 0.05311360622680872\n",
      "800 0.05803492605821048\n",
      "800 0.053139680840723236\n",
      "900 0.057703216484477904\n",
      "900 0.053542211357550495\n"
     ]
    }
   ],
   "source": [
    "ITS = 1000\n",
    "cumulative_regrets = [defaultdict(lambda: defaultdict(float)), defaultdict(lambda: defaultdict(float))]\n",
    "strategy_sums = [defaultdict(lambda: defaultdict(float)), defaultdict(lambda: defaultdict(float))]\n",
    "\n",
    "for it in range(ITS):\n",
    "    for player in [0,1]:\n",
    "        state = game.new_initial_state()\n",
    "        payoff = cfr(state, player, 1, 1)\n",
    "        if it%100 == 0:\n",
    "            print(it, payoff)"
   ]
  },
  {
   "cell_type": "code",
   "execution_count": 25,
   "metadata": {},
   "outputs": [],
   "source": []
  },
  {
   "cell_type": "code",
   "execution_count": null,
   "metadata": {},
   "outputs": [],
   "source": []
  },
  {
   "cell_type": "code",
   "execution_count": null,
   "metadata": {},
   "outputs": [],
   "source": []
  },
  {
   "cell_type": "code",
   "execution_count": null,
   "metadata": {},
   "outputs": [],
   "source": []
  },
  {
   "cell_type": "code",
   "execution_count": null,
   "metadata": {},
   "outputs": [],
   "source": []
  }
 ],
 "metadata": {
  "kernelspec": {
   "display_name": "Python 3",
   "language": "python",
   "name": "python3"
  },
  "language_info": {
   "codemirror_mode": {
    "name": "ipython",
    "version": 3
   },
   "file_extension": ".py",
   "mimetype": "text/x-python",
   "name": "python",
   "nbconvert_exporter": "python",
   "pygments_lexer": "ipython3",
   "version": "3.8.5"
  }
 },
 "nbformat": 4,
 "nbformat_minor": 4
}
