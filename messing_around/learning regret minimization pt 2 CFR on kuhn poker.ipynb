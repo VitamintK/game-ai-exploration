{
 "cells": [
  {
   "cell_type": "markdown",
   "metadata": {},
   "source": [
    "### let's try hand-coding the CFR algorithm for Kuhn Poker in openspiel"
   ]
  },
  {
   "cell_type": "code",
   "execution_count": 42,
   "metadata": {},
   "outputs": [],
   "source": [
    "import pyspiel\n",
    "import numpy as np\n",
    "from collections import defaultdict"
   ]
  },
  {
   "cell_type": "code",
   "execution_count": 2,
   "metadata": {},
   "outputs": [],
   "source": [
    "game = pyspiel.load_game(\"kuhn_poker\")"
   ]
  },
  {
   "cell_type": "code",
   "execution_count": 87,
   "metadata": {},
   "outputs": [],
   "source": [
    "from typing import Dict\n",
    "\n",
    "cumulative_regrets = [defaultdict(lambda: defaultdict(float)), defaultdict(lambda: defaultdict(float))]\n",
    "# cumulative_regrets[P][I][A] is the cumulative regret, for player P (0 or 1) at infostate I, of not taking action A\n",
    "strategy_sums = [defaultdict(lambda: defaultdict(float)), defaultdict(lambda: defaultdict(float))]\n",
    "\n",
    "InfoSet = str\n",
    "\n",
    "def get_strategy_from_regrets(regrets: Dict[InfoSet, float]):\n",
    "    positive_regrets = {action: max(value, 0) for action, value in regrets.items()}\n",
    "    denom = sum(positive_regrets.values())\n",
    "    if denom <= 0:\n",
    "        return {action: 1/len(regrets) for action in regrets}\n",
    "    return {action: value/denom for action, value in positive_regrets.items()}\n",
    "\n",
    "\"\"\"\n",
    "returns the expected value of the state for player 1 (not counterfactual, so the caller should do the scaling)\n",
    "p1prob is the probability that we reach this state if *p2* plays to reach the state.\n",
    "\"\"\"\n",
    "def cfr(state, player, p1prob, p2prob):\n",
    "    if state.is_terminal():\n",
    "        return state.returns()[0] # take the 0th item here bc that's the payoff for player 1\n",
    "    if state.is_chance_node():\n",
    "        expected_value = 0\n",
    "        for action, p in state.chance_outcomes():\n",
    "            ev = cfr(state.child(action), player, p1prob*p, p2prob*p)\n",
    "            expected_value += p*ev\n",
    "        return expected_value\n",
    "    else:\n",
    "        infostate_str = state.information_state_string()\n",
    "        legal_actions = state.legal_actions()\n",
    "        # hacky way to lazily initialize cumulative regrets:\n",
    "        for action in legal_actions:\n",
    "            cumulative_regrets[state.current_player()][infostate_str][action] += 0\n",
    "        \n",
    "        strategy = get_strategy_from_regrets(cumulative_regrets[state.current_player()][infostate_str])\n",
    "        # the following two variables store ev for the state.current_player().\n",
    "        expected_value = 0\n",
    "        expected_values_per_action = dict()\n",
    "        for action in legal_actions:\n",
    "            p = strategy[action]\n",
    "            if state.current_player() == 0:\n",
    "                ev = cfr(state.child(action), player, p1prob*p, p2prob)\n",
    "            else:\n",
    "                ev = cfr(state.child(action), player, p1prob, p2prob*p) * -1\n",
    "            expected_values_per_action[action] = ev\n",
    "            expected_value += ev * p\n",
    "        if state.current_player() == player:\n",
    "            if player == 0:\n",
    "                pi_not_i, pi_i = p2prob, p1prob\n",
    "            else:\n",
    "                pi_not_i, pi_i = p1prob, p2prob\n",
    "            for a, v in expected_values_per_action.items():\n",
    "                counterfactual_regret = (v - expected_value)*pi_not_i\n",
    "                strategy_sums[player][state.information_state_string()][a] += p1prob*p2prob * strategy[a]\n",
    "                cumulative_regrets[player][state.information_state_string()][a] += counterfactual_regret\n",
    "        # since expected_value stores the ev for the state.current_player(), we invert it before returning\n",
    "        if state.current_player() == 0:\n",
    "            return expected_value\n",
    "        else:\n",
    "            return expected_value * -1\n",
    "        \n",
    "    "
   ]
  },
  {
   "cell_type": "code",
   "execution_count": 100,
   "metadata": {
    "scrolled": true
   },
   "outputs": [
    {
     "name": "stdout",
     "output_type": "stream",
     "text": [
      "0 0.3125\n",
      "0 0.25\n",
      "100 -0.06588413371255253\n",
      "100 -0.048032432641927136\n",
      "200 -0.06906437889014388\n",
      "200 -0.05355714547129836\n",
      "300 -0.06566306853256654\n",
      "300 -0.054341641765788706\n",
      "400 -0.06513692336808857\n",
      "400 -0.054513462324123074\n",
      "500 -0.062502406696407\n",
      "500 -0.0514975003093206\n",
      "600 -0.06048811054526626\n",
      "600 -0.05187123758438289\n",
      "700 -0.06165555781247328\n",
      "700 -0.05274160977037906\n",
      "800 -0.06047190947007608\n",
      "800 -0.052812115685123284\n",
      "900 -0.05991325207071202\n",
      "900 -0.05264948992724433\n",
      "1000 -0.06118483326617913\n",
      "1000 -0.05399961160211475\n",
      "1100 -0.060677978013210065\n",
      "1100 -0.05381614968913967\n",
      "1200 -0.06039161368689444\n",
      "1200 -0.05383466878256843\n",
      "1300 -0.0597133513026481\n",
      "1300 -0.053350190832990974\n",
      "1400 -0.06009304855012565\n",
      "1400 -0.05392673665614339\n",
      "1500 -0.05941286367004783\n",
      "1500 -0.053638321238782205\n",
      "1600 -0.059533356423190964\n",
      "1600 -0.05382086273486136\n",
      "1700 -0.05989809797001355\n",
      "1700 -0.054242198132835484\n",
      "1800 -0.05946306037069471\n",
      "1800 -0.05413928180507116\n",
      "1900 -0.05905168187522064\n",
      "1900 -0.053818286059890974\n",
      "2000 -0.058844011113143246\n",
      "2000 -0.05399614485905907\n",
      "2100 -0.058890293653743375\n",
      "2100 -0.0542117239462635\n",
      "2200 -0.05915019445215847\n",
      "2200 -0.05449187445791126\n",
      "2300 -0.058893469157088485\n",
      "2300 -0.05423341643316126\n",
      "2400 -0.05911120557305194\n",
      "2400 -0.05437783880995817\n",
      "2500 -0.058567310653070304\n",
      "2500 -0.05419790241062444\n",
      "2600 -0.05861322808839786\n",
      "2600 -0.05432668896993936\n",
      "2700 -0.05852157936864194\n",
      "2700 -0.054285745204402824\n",
      "2800 -0.05873160192229554\n",
      "2800 -0.05435408270117381\n",
      "2900 -0.05830915880865556\n",
      "2900 -0.05427109097906524\n",
      "3000 -0.05850255541149996\n",
      "3000 -0.05449023838493211\n",
      "3100 -0.05846876841347309\n",
      "3100 -0.05441934069843185\n",
      "3200 -0.058446263678378574\n",
      "3200 -0.05446367066887153\n",
      "3300 -0.058330264890694705\n",
      "3300 -0.05457571605247519\n",
      "3400 -0.05839808883669334\n",
      "3400 -0.05450432138915062\n",
      "3500 -0.05818587349793236\n",
      "3500 -0.05440124857762285\n",
      "3600 -0.05816685537760913\n",
      "3600 -0.05456886770941011\n",
      "3700 -0.05812281985092688\n",
      "3700 -0.05435163806840493\n",
      "3800 -0.05795215647039781\n",
      "3800 -0.0544045693264083\n",
      "3900 -0.05811719443572222\n",
      "3900 -0.0545610615130393\n",
      "4000 -0.05821290459365841\n",
      "4000 -0.05463497633580794\n",
      "4100 -0.058016914617289195\n",
      "4100 -0.05461589700580971\n",
      "4200 -0.05793613386707336\n",
      "4200 -0.05444283540957123\n",
      "4300 -0.05784895680457275\n",
      "4300 -0.05448652162456746\n",
      "4400 -0.05794420521529209\n",
      "4400 -0.05459639061519106\n",
      "4500 -0.05804377195589844\n",
      "4500 -0.05467767523176742\n",
      "4600 -0.057904091585417206\n",
      "4600 -0.05469567980243706\n",
      "4700 -0.05785278741068012\n",
      "4700 -0.05451851651815831\n",
      "4800 -0.05770242403182063\n",
      "4800 -0.054561998576619974\n",
      "4900 -0.057871059839967987\n",
      "4900 -0.0546402086261627\n",
      "5000 -0.05772989744839474\n",
      "5000 -0.05458457027487307\n",
      "5100 -0.05772269504056737\n",
      "5100 -0.05463715817591169\n",
      "5200 -0.057771319320315206\n",
      "5200 -0.0546265007304913\n",
      "5300 -0.05775136129643371\n",
      "5300 -0.0547430934195654\n",
      "5400 -0.0577919967092389\n",
      "5400 -0.054723243904760854\n",
      "5500 -0.05764424434279547\n",
      "5500 -0.05466772850500956\n",
      "5600 -0.05776734072713113\n",
      "5600 -0.05475171804869006\n",
      "5700 -0.057677364759214755\n",
      "5700 -0.05478301547663528\n",
      "5800 -0.0576634772684152\n",
      "5800 -0.054661022560956396\n",
      "5900 -0.0575952194893295\n",
      "5900 -0.05476512451364124\n"
     ]
    }
   ],
   "source": [
    "ITS = 6000\n",
    "cumulative_regrets = [defaultdict(lambda: defaultdict(float)), defaultdict(lambda: defaultdict(float))]\n",
    "strategy_sums = [defaultdict(lambda: defaultdict(float)), defaultdict(lambda: defaultdict(float))]\n",
    "\n",
    "for it in range(ITS):\n",
    "    for player in [0,1]:\n",
    "        state = game.new_initial_state()\n",
    "        payoff = cfr(state, player, 1, 1)\n",
    "        if it%100 == 0:\n",
    "            print(it, payoff)"
   ]
  },
  {
   "cell_type": "code",
   "execution_count": 94,
   "metadata": {},
   "outputs": [],
   "source": [
    "def get_strategy_from_strategy_sums(strategy_sums):\n",
    "    denom = sum(strategy_sums.values())\n",
    "    if denom <= 0:\n",
    "        return {action: 1/len(strategy_sums) for action in strategy_sums}\n",
    "    return {action: p/denom for action, p in strategy_sums.items()}\n",
    "    \n",
    "\n",
    "def get_payoff_with_final_strat(state):\n",
    "    if state.is_terminal():\n",
    "        return state.returns()[0]\n",
    "    elif state.is_chance_node():\n",
    "        ev = 0\n",
    "        for action, p in state.chance_outcomes():\n",
    "            ev += p*get_payoff_with_final_strat(state.child(action))\n",
    "        return ev\n",
    "    else:\n",
    "        infostate_str = state.information_state_string()\n",
    "        legal_actions = state.legal_actions()\n",
    "        print(' '*state.move_number(), state.history_str())\n",
    "        strategy = get_strategy_from_strategy_sums(strategy_sums[state.current_player()][infostate_str])\n",
    "        ev = 0\n",
    "        for action in legal_actions:\n",
    "            print(' '*state.move_number(),infostate_str,'->',state.action_to_string(action), strategy[action])\n",
    "            ev += strategy[action] * get_payoff_with_final_strat(state.child(action))\n",
    "        return ev"
   ]
  },
  {
   "cell_type": "code",
   "execution_count": 101,
   "metadata": {},
   "outputs": [
    {
     "name": "stdout",
     "output_type": "stream",
     "text": [
      "   0 1\n",
      "   0 -> Pass 0.764724189393865\n",
      "    0 1 0\n",
      "    1p -> Pass 0.9996989973206932\n",
      "    1p -> Bet 0.00030100267930670705\n",
      "     0 1 0 1\n",
      "     0pb -> Pass 0.9999725586952606\n",
      "     0pb -> Bet 2.7441304739366313e-05\n",
      "   0 -> Bet 0.23527581060613498\n",
      "    0 1 1\n",
      "    1b -> Pass 0.6561151815826567\n",
      "    1b -> Bet 0.3438848184173433\n",
      "   0 2\n",
      "   0 -> Pass 0.764724189393865\n",
      "    0 2 0\n",
      "    2p -> Pass 0.0001196960864903472\n",
      "    2p -> Bet 0.9998803039135097\n",
      "     0 2 0 1\n",
      "     0pb -> Pass 0.9999725586952606\n",
      "     0pb -> Bet 2.7441304739366313e-05\n",
      "   0 -> Bet 0.23527581060613498\n",
      "    0 2 1\n",
      "    2b -> Pass 0.0003615765470801664\n",
      "    2b -> Bet 0.9996384234529199\n",
      "   1 0\n",
      "   1 -> Pass 0.9988066610907277\n",
      "    1 0 0\n",
      "    0p -> Pass 0.66381571464462\n",
      "    0p -> Bet 0.33618428535538003\n",
      "     1 0 0 1\n",
      "     1pb -> Pass 0.4286631829955627\n",
      "     1pb -> Bet 0.5713368170044373\n",
      "   1 -> Bet 0.0011933389092724158\n",
      "    1 0 1\n",
      "    0b -> Pass 0.9998798988746334\n",
      "    0b -> Bet 0.00012010112536670338\n",
      "   1 2\n",
      "   1 -> Pass 0.9988066610907277\n",
      "    1 2 0\n",
      "    2p -> Pass 0.0001196960864903472\n",
      "    2p -> Bet 0.9998803039135097\n",
      "     1 2 0 1\n",
      "     1pb -> Pass 0.4286631829955627\n",
      "     1pb -> Bet 0.5713368170044373\n",
      "   1 -> Bet 0.0011933389092724158\n",
      "    1 2 1\n",
      "    2b -> Pass 0.0003615765470801664\n",
      "    2b -> Bet 0.9996384234529199\n",
      "   2 0\n",
      "   2 -> Pass 0.31197516728459146\n",
      "    2 0 0\n",
      "    0p -> Pass 0.66381571464462\n",
      "    0p -> Bet 0.33618428535538003\n",
      "     2 0 0 1\n",
      "     2pb -> Pass 0.00020308603722315435\n",
      "     2pb -> Bet 0.9997969139627769\n",
      "   2 -> Bet 0.6880248327154086\n",
      "    2 0 1\n",
      "    0b -> Pass 0.9998798988746334\n",
      "    0b -> Bet 0.00012010112536670338\n",
      "   2 1\n",
      "   2 -> Pass 0.31197516728459146\n",
      "    2 1 0\n",
      "    1p -> Pass 0.9996989973206932\n",
      "    1p -> Bet 0.00030100267930670705\n",
      "     2 1 0 1\n",
      "     2pb -> Pass 0.00020308603722315435\n",
      "     2pb -> Bet 0.9997969139627769\n",
      "   2 -> Bet 0.6880248327154086\n",
      "    2 1 1\n",
      "    1b -> Pass 0.6561151815826567\n",
      "    1b -> Bet 0.3438848184173433\n",
      "-0.05557122572128392\n"
     ]
    }
   ],
   "source": [
    "state = game.new_initial_state()\n",
    "ev = get_payoff_with_final_strat(state)\n",
    "print(ev)"
   ]
  },
  {
   "cell_type": "markdown",
   "metadata": {},
   "source": [
    "The resulting EV looks correct (https://en.wikipedia.org/wiki/Kuhn_poker): \"the first player should expect to lose at a rate of −1/18 per hand\""
   ]
  },
  {
   "cell_type": "code",
   "execution_count": 96,
   "metadata": {},
   "outputs": [
    {
     "data": {
      "text/plain": [
       "0.05555555555555555"
      ]
     },
     "execution_count": 96,
     "metadata": {},
     "output_type": "execute_result"
    }
   ],
   "source": [
    "1/18"
   ]
  },
  {
   "cell_type": "markdown",
   "metadata": {},
   "source": [
    "Ok that looks correct.\n",
    "\n",
    "Player one should bet 3x more likely with a K (2) than with a J (0): https://upload.wikimedia.org/wikipedia/commons/a/a9/Kuhn_poker_tree.svg\n",
    "\n",
    "```\n",
    "0 -> Bet 0.23675878818473314\n",
    "...\n",
    "2 -> Bet 0.6698347958294653\n",
    "```"
   ]
  },
  {
   "cell_type": "code",
   "execution_count": 98,
   "metadata": {},
   "outputs": [
    {
     "data": {
      "text/plain": [
       "0.711"
      ]
     },
     "execution_count": 98,
     "metadata": {},
     "output_type": "execute_result"
    }
   ],
   "source": [
    "0.237 * 3"
   ]
  },
  {
   "cell_type": "markdown",
   "metadata": {},
   "source": [
    "Hm.... that doesn't look exactly correct.  [edit: Re-ran with 5x more iterations (6000 iterations) and got closer values (0.235 and 0.688), so I'm satisfied]"
   ]
  },
  {
   "cell_type": "markdown",
   "metadata": {},
   "source": [
    "More checking:  \n",
    "Player one should check 100% of the time with a Q (1), which it does: `1 -> Pass 0.9928399665443669`  \n",
    "Player two should fold 100% of the time with a J when bet to, which it does: `0b -> Pass 0.9992716750496424`  \n",
    "And player two should bet 33% of the time with a J when checked to, which it does: `0p -> Pass 0.6608318109822778`"
   ]
  },
  {
   "cell_type": "markdown",
   "metadata": {},
   "source": [
    "Alright now let's try using openspiel's CFR solver: [cfr_example.py](https://github.com/deepmind/open_spiel/blob/master/open_spiel/python/examples/cfr_example.py)\n"
   ]
  },
  {
   "cell_type": "code",
   "execution_count": 105,
   "metadata": {},
   "outputs": [
    {
     "name": "stdout",
     "output_type": "stream",
     "text": [
      "Iteration 0 exploitability 0.45833333333333326\n",
      "Iteration 100 exploitability 0.007681433241925523\n",
      "Iteration 200 exploitability 0.00344489604438572\n",
      "Iteration 300 exploitability 0.0029364753880415373\n",
      "Iteration 400 exploitability 0.0018367557313718752\n",
      "Iteration 500 exploitability 0.0012031926490508604\n",
      "Iteration 600 exploitability 0.0013515037961346898\n",
      "Iteration 700 exploitability 0.0009143638829439416\n",
      "Iteration 800 exploitability 0.0008587977290051563\n",
      "Iteration 900 exploitability 0.001075271558795332\n"
     ]
    }
   ],
   "source": [
    "from open_spiel.python.algorithms import cfr\n",
    "from open_spiel.python.algorithms import exploitability\n",
    "\n",
    "cfr_solver = cfr.CFRSolver(game)\n",
    "ITS = 1000\n",
    "for i in range(ITS):\n",
    "    cfr_solver.evaluate_and_update_policy()\n",
    "    if i % 100 == 0:\n",
    "        conv = exploitability.exploitability(game, cfr_solver.average_policy())\n",
    "        print(\"Iteration {} exploitability {}\".format(i, conv))"
   ]
  },
  {
   "cell_type": "markdown",
   "metadata": {},
   "source": [
    "that was easy.  Let's try to compare the exploitability of the resulting policy from my hand-coded CFR."
   ]
  },
  {
   "cell_type": "code",
   "execution_count": 114,
   "metadata": {},
   "outputs": [
    {
     "name": "stdout",
     "output_type": "stream",
     "text": [
      "0pb 0 126.52922202103277\n",
      "0pb 1 0.003472222222222222\n",
      "0 0 254.9080631312879\n",
      "0 1 78.42527020204486\n",
      "1pb 0 95.18955823728828\n",
      "1pb 1 126.87186904015913\n",
      "1 0 332.9355536968497\n",
      "1 1 0.3977796364240675\n",
      "2pb 0 0.003472222222222222\n",
      "2pb 1 17.09382441962857\n",
      "2 0 103.99172242819718\n",
      "2 1 229.34161090513626\n",
      "1p 0 179.53995030931154\n",
      "1p 1 0.05405827777214395\n",
      "1b 0 100.8707049722805\n",
      "1b 1 52.86861977396898\n",
      "2p 0 0.03530092592592592\n",
      "2p 1 294.8860031951803\n",
      "2b 0 0.013888888888888888\n",
      "2b 1 38.3981403233087\n",
      "0p 0 144.50607379338578\n",
      "0p 1 73.18397271409782\n",
      "0b 0 115.62939793695978\n",
      "0b 1 0.013888888888888888\n"
     ]
    }
   ],
   "source": [
    "from open_spiel.python.policy import TabularPolicy\n",
    "my_policy = TabularPolicy(game)\n",
    "for player in [0,1]:\n",
    "    for info_state in strategy_sums[player]:\n",
    "        for action, p in strategy_sums[player][info_state].items():\n",
    "#             print(info_state, action, p)\n",
    "            my_policy.policy_for_key(info_state)[action] = p"
   ]
  },
  {
   "cell_type": "code",
   "execution_count": 112,
   "metadata": {},
   "outputs": [
    {
     "name": "stdout",
     "output_type": "stream",
     "text": [
      "my exploitability: 14728.708476786192\n"
     ]
    }
   ],
   "source": [
    "conv = exploitability.exploitability(game, my_policy)\n",
    "print(\"my exploitability: {}\".format(conv))"
   ]
  },
  {
   "cell_type": "code",
   "execution_count": null,
   "metadata": {},
   "outputs": [],
   "source": []
  }
 ],
 "metadata": {
  "kernelspec": {
   "display_name": "Python 3",
   "language": "python",
   "name": "python3"
  },
  "language_info": {
   "codemirror_mode": {
    "name": "ipython",
    "version": 3
   },
   "file_extension": ".py",
   "mimetype": "text/x-python",
   "name": "python",
   "nbconvert_exporter": "python",
   "pygments_lexer": "ipython3",
   "version": "3.8.5"
  }
 },
 "nbformat": 4,
 "nbformat_minor": 4
}
